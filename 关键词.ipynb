{
 "cells": [
  {
   "cell_type": "code",
   "execution_count": 1,
   "id": "b83664c3-7fa6-4736-a840-43aeec110c53",
   "metadata": {},
   "outputs": [
    {
     "name": "stderr",
     "output_type": "stream",
     "text": [
      "Building prefix dict from the default dictionary ...\n",
      "Loading model from cache C:\\Users\\DELL\\AppData\\Local\\Temp\\jieba.cache\n",
      "Loading model cost 0.763 seconds.\n",
      "Prefix dict has been built successfully.\n"
     ]
    },
    {
     "data": {
      "text/plain": [
       "['中国', '发展', '人民', '国际', '世界']"
      ]
     },
     "execution_count": 1,
     "metadata": {},
     "output_type": "execute_result"
    }
   ],
   "source": [
    "import jieba\n",
    "import jieba.analyse\n",
    "\n",
    "\n",
    "\n",
    "# 应用自定义词典改善分词效果\n",
    "'''\n",
    "my_words = ['','','']    \n",
    "for i in my_words:\n",
    "    jieba.add_word(i)\n",
    "'''\n",
    "\n",
    "# 应用自定义词典改善分词效果\n",
    "#jieba.load_userdict('词库.txt') # dict为自定义词典的路径\n",
    "\n",
    "# 在TF-IDF计算中直接应用停用词表    \n",
    "jieba.analyse.set_stop_words(r\"C:\\Users\\DELL\\停用词.txt\")\n",
    "\n",
    "s = \"\"\"  迈向/v  充满/v  希望/n  的/u  新/a  世纪/n  ——/w  一九九八年/t  新年/t  讲话/n  （/w  附/v  图片/n  １/m  张/q  ）/w  \n",
    " 中共中央/nt  总书记/n  、/w  国家/n  主席/n  江/nr  泽民/nr  \n",
    "  （/w  一九九七年/t  十二月/t  三十一日/t  ）/w  \n",
    "  １２月/t  ３１日/t  ，/w  中共中央/nt  总书记/n  、/w  国家/n  主席/n  江/nr  泽民/nr  发表/v  １９９８年/t  新年/t  讲话/n  《/w  迈向/v  充满/v  希望/n  的/u  新/a  世纪/n  》/w  。/w  （/w  新华社/nt  记者/n  兰/nr  红光/nr  摄/Vg  ）/w  \n",
    " 同胞/n  们/k  、/w  朋友/n  们/k  、/w  女士/n  们/k  、/w  先生/n  们/k  ：/w  \n",
    "  在/p  １９９８年/t  来临/v  之际/f  ，/w  我/r  十分/m  高兴/a  地/u  通过/p  [中央/n  人民/n  广播/vn  电台/n]nt  、/w  [中国/ns  国际/n  广播/vn  电台/n]nt  和/c  [中央/n  电视台/n]nt  ，/w  向/p  全国/n  各族/r  人民/n  ，/w  向/p  [香港/ns  特别/a  行政区/n]ns  同胞/n  、/w  澳门/ns  和/c  台湾/ns  同胞/n  、/w  海外/s  侨胞/n  ，/w  向/p  世界/n  各国/r  的/u  朋友/n  们/k  ，/w  致以/v  诚挚/a  的/u  问候/vn  和/c  良好/a  的/u  祝愿/vn  ！/w  \n",
    "  １９９７年/t  ，/w  是/v  中国/ns  发展/vn  历史/n  上/f  非常/d  重要/a  的/u  很/d  不/d  平凡/a  的/u  一/m  年/q  。/w  中国/ns  人民/n  决心/d  继承/v  邓/nr  小平/nr  同志/n  的/u  遗志/n  ，/w  继续/v  把/p  建设/v  有/v  中国/ns  特色/n  社会主义/n  事业/n  推向/v  前进/v  。/w  [中国/ns  政府/n]nt  顺利/ad  恢复/v  对/p  香港/ns  行使/v  主权/n  ，/w  并/c  按照/p  “/w  一国两制/j  ”/w  、/w  “/w  港人治港/l  ”/w  、/w  高度/d  自治/v  的/u  方针/n  保持/v  香港/ns  的/u  繁荣/an  稳定/an  。/w  [中国/ns  共产党/n]nt  成功/a  地/u  召开/v  了/u  第十五/m  次/q  全国/n  代表大会/n  ，/w  高举/v  邓小平理论/n  伟大/a  旗帜/n  ，/w  总结/v  百年/m  历史/n  ，/w  展望/v  新/a  的/u  世纪/n  ，/w  制定/v  了/u  中国/ns  跨/v  世纪/n  发展/v  的/u  行动/vn  纲领/n  。/w  \n",
    "  在/p  这/r  一/m  年/q  中/f  ，/w  中国/ns  的/u  改革/vn  开放/vn  和/c  现代化/vn  建设/vn  继续/v  向前/v  迈进/v  。/w  国民经济/n  保持/v  了/u  “/w  高/a  增长/vn  、/w  低/a  通胀/j  ”/w  的/u  良好/a  发展/vn  态势/n  。/w  农业/n  生产/vn  再次/d  获得/v  好/a  的/u  收成/n  ，/w  企业/n  改革/vn  继续/v  深化/v  ，/w  人民/n  生活/vn  进一步/d  改善/v  。/w  对外/vn  经济/n  技术/n  合作/vn  与/c  交流/vn  不断/d  扩大/v  。/w  民主/a  法制/n  建设/vn  、/w  精神文明/n  建设/vn  和/c  其他/r  各项/r  事业/n  都/d  有/v  新/a  的/u  进展/vn  。/w  我们/r  十分/m  关注/v  最近/t  一个/m  时期/n  一些/m  国家/n  和/c  地区/n  发生/v  的/u  金融/n  风波/n  ，/w  我们/r  相信/v  通过/p  这些/r  国家/n  和/c  地区/n  的/u  努力/an  以及/c  有关/v  的/u  国际/n  合作/vn  ，/w  情况/n  会/v  逐步/d  得到/v  缓解/vn  。/w  总的来说/c  ，/w  中国/ns  改革/v  和/c  发展/v  的/u  全局/n  继续/v  保持/v  了/u  稳定/an  。/w  \n",
    "1  在/p  这/r  一/m  年/q  中/f  ，/w  中国/ns  的/u  外交/n  工作/vn  取得/v  了/u  重要/a  成果/n  。/w  通过/p  高层/n  互访/v  ，/w  中国/ns  与/p  美国/ns  、/w  俄罗斯/ns  、/w  法国/ns  、/w  日本/ns  等/u  大国/n  确定/v  了/u  双方/n  关系/n  未来/t  发展/v  的/u  目标/n  和/c  指导/vn  方针/n  。/w  中国/ns  与/p  周边/n  国家/n  和/c  广大/b  发展中国家/l  的/u  友好/a  合作/vn  进一步/d  加强/v  。/w  中国/ns  积极/ad  参与/v  [亚/j  太/j  经合/j  组织/n]nt  的/u  活动/vn  ，/w  参加/v  了/u  东盟/ns  —/w  中/j  日/j  韩/j  和/c  中国/ns  —/w  东盟/ns  首脑/n  非正式/b  会晤/vn  。/w  这些/r  外交/n  活动/vn  ，/w  符合/v  和平/n  与/c  发展/v  的/u  时代/n  主题/n  ，/w  顺应/v  世界/n  走向/v  多极化/v  的/u  趋势/n  ，/w  对于/p  促进/v  国际/n  社会/n  的/u  友好/a  合作/vn  和/c  共同/b  发展/vn  作出/v  了/u  积极/a  的/u  贡献/n  。/w  \n",
    "  １９９８年/t  ，/w  中国/ns  人民/n  将/d  满怀信心/l  地/u  开创/v  新/a  的/u  业绩/n  。/w  尽管/c  我们/r  在/p  经济/n  社会/n  发展/v  中/f  还/d  面临/v  不少/m  困难/an  ，/w  但/c  我们/r  有/v  邓小平理论/n  的/u  指引/vn  ，/w  有/v  改革/v  开放/v  近/a  ２０/m  年/q  来/f  取得/v  的/u  伟大/a  成就/n  和/c  积累/v  的/u  丰富/a  经验/n  ，/w  还/d  有/v  其他/r  的/u  各种/r  有利/a  条件/n  ，/w  我们/r  一定/d  能够/v  克服/v  这些/r  困难/an  ，/w  继续/v  稳步前进/l  。/w  只要/c  我们/r  进一步/d  解放思想/i  ，/w  实事求是/i  ，/w  抓住/v  机遇/n  ，/w  开拓进取/l  ，/w  建设/v  有/v  中国/ns  特色/n  社会主义/n  的/u  道路/n  就/c  会/v  越/d  走/v  越/d  宽广/a  。/w  \n",
    "  实现/v  祖国/n  的/u  完全/a  统一/vn  ，/w  是/v  海内外/s  全体/n  中国/ns  人/n  的/u  共同/b  心愿/n  。/w  通过/p  中/j  葡/j  双方/n  的/u  合作/vn  和/c  努力/an  ，/w  按照/p  “/w  一国两制/j  ”/w  方针/n  和/c  澳门/ns  《/w  基本法/n  》/w  ，/w  １９９９年/t  １２月/t  澳门/ns  的/u  回归/vn  一定/d  能够/v  顺利/ad  实现/v  。/w  \n",
    " 台湾/ns  是/v  中国/ns  领土/n  不可分割/l  的/u  一/m  部分/n  。/w  完成/v  祖国/n  统一/vn  ，/w  是/v  大势所趋/i  ，/w  民心所向/l  。/w  任何/r  企图/v  制造/v  “/w  两/m  个/q  中国/ns  ”/w  、/w  “/w  一中一台/j  ”/w  、/w  “/w  台湾/ns  独立/v  ”/w  的/u  图谋/n  ，/w  都/d  注定/v  要/v  失败/v  。/w  希望/v  台湾/ns  当局/n  以/p  民族/n  大义/n  为重/v  ，/w  拿/v  出/v  诚意/n  ，/w  采取/v  实际/a  的/u  行动/vn  ，/w  推动/v  两岸/n  经济/n  文化/n  交流/vn  和/c  人员/n  往来/vn  ，/w  促进/v  两岸/n  直接/ad  通邮/v  、/w  通航/v  、/w  通商/v  的/u  早日/d  实现/v  ，/w  并/c  尽早/d  回应/v  我们/r  发出/v  的/u  在/p  一个/m  中国/ns  的/u  原则/n  下/f  两岸/n  进行/v  谈判/vn  的/u  郑重/a  呼吁/vn  。/w  \n",
    "环顾/v  全球/n  ，/w  日益/d  密切/a  的/u  世界/n  经济/n  联系/vn  ，/w  日新月异/i  的/u  科技/n  进步/vn  ，/w  正在/d  为/p  各国/r  经济/n  的/u  发展/vn  提供/v  历史/n  机遇/n  。/w  但是/c  ，/w  世界/n  还/d  不/d  安宁/a  。/w  南北/f  之间/f  的/u  贫富/n  差距/n  继续/v  扩大/v  ；/w  局部/n  冲突/vn  时有发生/l  ；/w  不/d  公正/a  不/d  合理/a  的/u  旧/a  的/u  国际/n  政治/n  经济/n  秩序/n  还/d  没有/v  根本/a  改变/vn  ；/w  发展中国家/l  在/p  激烈/a  的/u  国际/n  经济/n  竞争/vn  中/f  仍/d  处于/v  弱势/n  地位/n  ；/w  人类/n  的/u  生存/vn  与/c  发展/vn  还/d  面临/v  种种/q  威胁/vn  和/c  挑战/vn  。/w  和平/n  与/c  发展/vn  的/u  前景/n  是/v  光明/a  的/u  ，/w  ２１/m  世纪/n  将/d  是/v  充满/v  希望/n  的/u  世纪/n  。/w  但/c  前进/v  的/u  道路/n  不/d  会/v  也/d  不/d  可能/v  一帆风顺/i  ，/w  关键/n  是/v  世界/n  各国/r  人民/n  要/v  进一步/d  团结/a  起来/v  ，/w  共同/d  推动/v  早日/d  建立/v  公正/a  合理/a  的/u  国际/n  政治/n  经济/n  新/a  秩序/n  。/w  \n",
    "  [中国/ns  政府/n]nt  将/d  继续/v  坚持/v  奉行/v  独立自主/i  的/u  和平/n  外交/n  政策/n  ，/w  在/p  和平共处/l  五/m  项/q  原则/n  的/u  基础/n  上/f  努力/ad  发展/v  同/p  世界/n  各国/r  的/u  友好/a  关系/n  。/w  中国/ns  愿意/v  加强/v  同/p  联合国/nt  和/c  其他/r  国际/n  组织/n  的/u  协调/vn  ，/w  促进/v  在/p  扩大/v  经贸/j  科技/n  交流/vn  、/w  保护/v  环境/n  、/w  消除/v  贫困/an  、/w  打击/v  国际/n  犯罪/vn  等/u  方面/n  的/u  国际/n  合作/vn  。/w  中国/ns  永远/d  是/v  维护/v  世界/n  和平/n  与/c  稳定/an  的/u  重要/a  力量/n  。/w  中国/ns  人民/n  愿/v  与/p  世界/n  各国/r  人民/n  一道/d  ，/w  为/p  开创/v  持久/a  和平/n  、/w  共同/d  发展/v  的/u  新/a  世纪/n  而/c  不懈努力/l  ！/w  \n",
    " 在/p  这/r  辞旧迎新/l  的/u  美好/a  时刻/n  ，/w  我/r  祝/v  大家/r  新年/t  快乐/a  ，/w  家庭/n  幸福/a  ！/w  \n",
    "  谢谢/v  ！/w  （/w  新华社/nt  北京/ns  １２月/t  ３１日/t  电/n  ）/w \"\"\"\n",
    "\n",
    "#jieba.analyse.extract_tags(s) \n",
    "jieba.analyse.extract_tags(s,topK=5)\n",
    "#jieba.analyse.extract_tags(s,withWeight = True) #返回权重值"
   ]
  },
  {
   "cell_type": "code",
   "execution_count": null,
   "id": "6ffde515-d7d1-4c02-a9ec-97e9d65a5c73",
   "metadata": {},
   "outputs": [],
   "source": []
  }
 ],
 "metadata": {
  "kernelspec": {
   "display_name": "Python 3 (ipykernel)",
   "language": "python",
   "name": "python3"
  },
  "language_info": {
   "codemirror_mode": {
    "name": "ipython",
    "version": 3
   },
   "file_extension": ".py",
   "mimetype": "text/x-python",
   "name": "python",
   "nbconvert_exporter": "python",
   "pygments_lexer": "ipython3",
   "version": "3.12.3"
  }
 },
 "nbformat": 4,
 "nbformat_minor": 5
}
